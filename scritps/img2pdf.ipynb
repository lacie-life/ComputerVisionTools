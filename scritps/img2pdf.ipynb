{
 "cells": [
  {
   "cell_type": "code",
   "execution_count": 1,
   "metadata": {
    "collapsed": true
   },
   "outputs": [],
   "source": [
    "import os"
   ]
  },
  {
   "cell_type": "code",
   "execution_count": 2,
   "outputs": [],
   "source": [
    "files =  os.listdir('1')"
   ],
   "metadata": {
    "collapsed": false
   }
  },
  {
   "cell_type": "code",
   "execution_count": 3,
   "outputs": [
    {
     "name": "stdout",
     "output_type": "stream",
     "text": [
      "['089.jpg', '129.jpg', '020.jpg', '006.jpg', '138.jpg', '056.jpg', '019.jpg', '102.jpg', '090.jpg', '063.jpg', '097.jpg', '130.jpg', '069.jpg', '064.jpg', '086.jpg', '039.jpg', '144.jpg', '120.jpg', '140.jpg', '012.jpg', '133.jpg', '011.jpg', '127.jpg', '119.jpg', '081.jpg', '016.jpg', '098.jpg', '009.jpg', '112.jpg', '099.jpg', '078.jpg', '015.jpg', '108.jpg', '041.jpg', '096.jpg', '059.jpg', '148.jpg', '077.jpg', '033.jpg', '048.jpg', '003.jpg', '088.jpg', '092.jpg', '075.jpg', '062.jpg', '076.jpg', '049.jpg', '087.jpg', '072.jpg', '145.jpg', '121.jpg', '074.jpg', '093.jpg', '122.jpg', '054.jpg', '124.jpg', '071.jpg', '106.jpg', '026.jpg', '080.jpg', '141.jpg', '134.jpg', '017.jpg', '116.jpg', '115.jpg', '001.jpg', '136.jpg', '107.jpg', '052.jpg', '100.jpg', '113.jpg', '103.jpg', '005.jpg', '137.jpg', '047.jpg', '105.jpg', '013.jpg', '083.jpg', '117.jpg', '043.jpg', '082.jpg', '123.jpg', '091.jpg', '053.jpg', '085.jpg', '060.jpg', '125.jpg', '061.jpg', '042.jpg', '131.jpg', '128.jpg', '084.jpg', '018.jpg', '073.jpg', '079.jpg', '135.jpg', '032.jpg', '007.jpg', '051.jpg', '058.jpg', '046.jpg', '067.jpg', '031.jpg', '094.jpg', '101.jpg', '104.jpg', '057.jpg', '023.jpg', '050.jpg', '142.jpg', '040.jpg', '002.jpg', '110.jpg', '030.jpg', '045.jpg', '029.jpg', '111.jpg', '055.jpg', '038.jpg', '037.jpg', '021.jpg', '014.jpg', '035.jpg', '034.jpg', '143.jpg', '066.jpg', '004.jpg', '095.jpg', '068.jpg', '025.jpg', '070.jpg', '010.jpg', '036.jpg', '147.jpg', '139.jpg', '132.jpg', '118.jpg', '044.jpg', '022.jpg', '109.jpg', '024.jpg', '114.jpg', '027.jpg', '028.jpg', '146.jpg', '065.jpg', '008.jpg', '126.jpg']\n"
     ]
    }
   ],
   "source": [
    "print(files)"
   ],
   "metadata": {
    "collapsed": false
   }
  },
  {
   "cell_type": "code",
   "execution_count": 4,
   "outputs": [
    {
     "name": "stdout",
     "output_type": "stream",
     "text": [
      "['001.jpg', '002.jpg', '003.jpg', '004.jpg', '005.jpg', '006.jpg', '007.jpg', '008.jpg', '009.jpg', '010.jpg', '011.jpg', '012.jpg', '013.jpg', '014.jpg', '015.jpg', '016.jpg', '017.jpg', '018.jpg', '019.jpg', '020.jpg', '021.jpg', '022.jpg', '023.jpg', '024.jpg', '025.jpg', '026.jpg', '027.jpg', '028.jpg', '029.jpg', '030.jpg', '031.jpg', '032.jpg', '033.jpg', '034.jpg', '035.jpg', '036.jpg', '037.jpg', '038.jpg', '039.jpg', '040.jpg', '041.jpg', '042.jpg', '043.jpg', '044.jpg', '045.jpg', '046.jpg', '047.jpg', '048.jpg', '049.jpg', '050.jpg', '051.jpg', '052.jpg', '053.jpg', '054.jpg', '055.jpg', '056.jpg', '057.jpg', '058.jpg', '059.jpg', '060.jpg', '061.jpg', '062.jpg', '063.jpg', '064.jpg', '065.jpg', '066.jpg', '067.jpg', '068.jpg', '069.jpg', '070.jpg', '071.jpg', '072.jpg', '073.jpg', '074.jpg', '075.jpg', '076.jpg', '077.jpg', '078.jpg', '079.jpg', '080.jpg', '081.jpg', '082.jpg', '083.jpg', '084.jpg', '085.jpg', '086.jpg', '087.jpg', '088.jpg', '089.jpg', '090.jpg', '091.jpg', '092.jpg', '093.jpg', '094.jpg', '095.jpg', '096.jpg', '097.jpg', '098.jpg', '099.jpg', '100.jpg', '101.jpg', '102.jpg', '103.jpg', '104.jpg', '105.jpg', '106.jpg', '107.jpg', '108.jpg', '109.jpg', '110.jpg', '111.jpg', '112.jpg', '113.jpg', '114.jpg', '115.jpg', '116.jpg', '117.jpg', '118.jpg', '119.jpg', '120.jpg', '121.jpg', '122.jpg', '123.jpg', '124.jpg', '125.jpg', '126.jpg', '127.jpg', '128.jpg', '129.jpg', '130.jpg', '131.jpg', '132.jpg', '133.jpg', '134.jpg', '135.jpg', '136.jpg', '137.jpg', '138.jpg', '139.jpg', '140.jpg', '141.jpg', '142.jpg', '143.jpg', '144.jpg', '145.jpg', '146.jpg', '147.jpg', '148.jpg']\n"
     ]
    }
   ],
   "source": [
    "sorted_files =  sorted(files)\n",
    "print(sorted_files)"
   ],
   "metadata": {
    "collapsed": false
   }
  },
  {
   "cell_type": "code",
   "execution_count": 5,
   "outputs": [
    {
     "name": "stdout",
     "output_type": "stream",
     "text": [
      "Requirement already satisfied: img2pdf in /home/lacie/.local/lib/python3.8/site-packages (0.4.4)\r\n",
      "Requirement already satisfied: pikepdf in /home/lacie/.local/lib/python3.8/site-packages (from img2pdf) (7.1.2)\r\n",
      "Requirement already satisfied: Pillow in /home/lacie/.local/lib/python3.8/site-packages (from img2pdf) (9.4.0)\r\n",
      "Requirement already satisfied: deprecation in /home/lacie/.local/lib/python3.8/site-packages (from pikepdf->img2pdf) (2.1.0)\r\n",
      "Requirement already satisfied: lxml>=4.8 in /home/lacie/.local/lib/python3.8/site-packages (from pikepdf->img2pdf) (4.9.2)\r\n",
      "Requirement already satisfied: packaging in /home/lacie/.local/lib/python3.8/site-packages (from pikepdf->img2pdf) (23.0)\r\n"
     ]
    }
   ],
   "source": [
    "!pip install img2pdf"
   ],
   "metadata": {
    "collapsed": false
   }
  },
  {
   "cell_type": "code",
   "execution_count": 29,
   "outputs": [],
   "source": [
    "import img2pdf\n",
    "import glob"
   ],
   "metadata": {
    "collapsed": false
   }
  },
  {
   "cell_type": "code",
   "execution_count": 43,
   "outputs": [],
   "source": [
    "path = '/home/lacie/Documents/Paper/PhD/images/images/3'\n",
    "os.chdir(path)\n",
    "images = [i for i in os.listdir(os.getcwd()) if i.endswith(\".jpg\")]"
   ],
   "metadata": {
    "collapsed": false
   }
  },
  {
   "cell_type": "code",
   "execution_count": 44,
   "outputs": [
    {
     "name": "stdout",
     "output_type": "stream",
     "text": [
      "['089.jpg', '129.jpg', '020.jpg', '006.jpg', '138.jpg', '056.jpg', '019.jpg', '202.jpg', '102.jpg', '090.jpg', '188.jpg', '165.jpg', '063.jpg', '097.jpg', '157.jpg', '130.jpg', '069.jpg', '064.jpg', '086.jpg', '039.jpg', '163.jpg', '144.jpg', '160.jpg', '120.jpg', '173.jpg', '174.jpg', '140.jpg', '012.jpg', '133.jpg', '152.jpg', '011.jpg', '127.jpg', '119.jpg', '081.jpg', '171.jpg', '155.jpg', '016.jpg', '164.jpg', '098.jpg', '009.jpg', '112.jpg', '099.jpg', '078.jpg', '015.jpg', '108.jpg', '041.jpg', '191.jpg', '096.jpg', '059.jpg', '156.jpg', '148.jpg', '077.jpg', '151.jpg', '170.jpg', '033.jpg', '048.jpg', '178.jpg', '003.jpg', '088.jpg', '176.jpg', '092.jpg', '075.jpg', '062.jpg', '076.jpg', '049.jpg', '087.jpg', '072.jpg', '145.jpg', '154.jpg', '121.jpg', '074.jpg', '093.jpg', '168.jpg', '186.jpg', '201.jpg', '190.jpg', '122.jpg', '054.jpg', '175.jpg', '199.jpg', '124.jpg', '198.jpg', '071.jpg', '106.jpg', '026.jpg', '080.jpg', '141.jpg', '134.jpg', '017.jpg', '116.jpg', '200.jpg', '115.jpg', '001.jpg', '136.jpg', '107.jpg', '052.jpg', '194.jpg', '100.jpg', '196.jpg', '185.jpg', '113.jpg', '103.jpg', '187.jpg', '005.jpg', '169.jpg', '167.jpg', '137.jpg', '047.jpg', '105.jpg', '013.jpg', '083.jpg', '117.jpg', '043.jpg', '082.jpg', '182.jpg', '123.jpg', '184.jpg', '091.jpg', '053.jpg', '085.jpg', '060.jpg', '125.jpg', '061.jpg', '192.jpg', '042.jpg', '131.jpg', '128.jpg', '084.jpg', '018.jpg', '073.jpg', '079.jpg', '135.jpg', '032.jpg', '007.jpg', '051.jpg', '058.jpg', '046.jpg', '180.jpg', '067.jpg', '031.jpg', '094.jpg', '101.jpg', '104.jpg', '057.jpg', '023.jpg', '050.jpg', '142.jpg', '040.jpg', '002.jpg', '197.jpg', '110.jpg', '030.jpg', '150.jpg', '045.jpg', '189.jpg', '193.jpg', '029.jpg', '181.jpg', '111.jpg', '055.jpg', '038.jpg', '037.jpg', '203.jpg', '149.jpg', '172.jpg', '158.jpg', '166.jpg', '021.jpg', '014.jpg', '035.jpg', '034.jpg', '143.jpg', '066.jpg', '004.jpg', '183.jpg', '153.jpg', '095.jpg', '068.jpg', '177.jpg', '159.jpg', '179.jpg', '025.jpg', '070.jpg', '010.jpg', '036.jpg', '147.jpg', '139.jpg', '132.jpg', '118.jpg', '044.jpg', '022.jpg', '109.jpg', '024.jpg', '114.jpg', '161.jpg', '027.jpg', '028.jpg', '195.jpg', '146.jpg', '065.jpg', '008.jpg', '126.jpg', '162.jpg']\n"
     ]
    }
   ],
   "source": [
    "print(images)"
   ],
   "metadata": {
    "collapsed": false
   }
  },
  {
   "cell_type": "code",
   "execution_count": 45,
   "outputs": [
    {
     "name": "stdout",
     "output_type": "stream",
     "text": [
      "['001.jpg', '002.jpg', '003.jpg', '004.jpg', '005.jpg', '006.jpg', '007.jpg', '008.jpg', '009.jpg', '010.jpg', '011.jpg', '012.jpg', '013.jpg', '014.jpg', '015.jpg', '016.jpg', '017.jpg', '018.jpg', '019.jpg', '020.jpg', '021.jpg', '022.jpg', '023.jpg', '024.jpg', '025.jpg', '026.jpg', '027.jpg', '028.jpg', '029.jpg', '030.jpg', '031.jpg', '032.jpg', '033.jpg', '034.jpg', '035.jpg', '036.jpg', '037.jpg', '038.jpg', '039.jpg', '040.jpg', '041.jpg', '042.jpg', '043.jpg', '044.jpg', '045.jpg', '046.jpg', '047.jpg', '048.jpg', '049.jpg', '050.jpg', '051.jpg', '052.jpg', '053.jpg', '054.jpg', '055.jpg', '056.jpg', '057.jpg', '058.jpg', '059.jpg', '060.jpg', '061.jpg', '062.jpg', '063.jpg', '064.jpg', '065.jpg', '066.jpg', '067.jpg', '068.jpg', '069.jpg', '070.jpg', '071.jpg', '072.jpg', '073.jpg', '074.jpg', '075.jpg', '076.jpg', '077.jpg', '078.jpg', '079.jpg', '080.jpg', '081.jpg', '082.jpg', '083.jpg', '084.jpg', '085.jpg', '086.jpg', '087.jpg', '088.jpg', '089.jpg', '090.jpg', '091.jpg', '092.jpg', '093.jpg', '094.jpg', '095.jpg', '096.jpg', '097.jpg', '098.jpg', '099.jpg', '100.jpg', '101.jpg', '102.jpg', '103.jpg', '104.jpg', '105.jpg', '106.jpg', '107.jpg', '108.jpg', '109.jpg', '110.jpg', '111.jpg', '112.jpg', '113.jpg', '114.jpg', '115.jpg', '116.jpg', '117.jpg', '118.jpg', '119.jpg', '120.jpg', '121.jpg', '122.jpg', '123.jpg', '124.jpg', '125.jpg', '126.jpg', '127.jpg', '128.jpg', '129.jpg', '130.jpg', '131.jpg', '132.jpg', '133.jpg', '134.jpg', '135.jpg', '136.jpg', '137.jpg', '138.jpg', '139.jpg', '140.jpg', '141.jpg', '142.jpg', '143.jpg', '144.jpg', '145.jpg', '146.jpg', '147.jpg', '148.jpg', '149.jpg', '150.jpg', '151.jpg', '152.jpg', '153.jpg', '154.jpg', '155.jpg', '156.jpg', '157.jpg', '158.jpg', '159.jpg', '160.jpg', '161.jpg', '162.jpg', '163.jpg', '164.jpg', '165.jpg', '166.jpg', '167.jpg', '168.jpg', '169.jpg', '170.jpg', '171.jpg', '172.jpg', '173.jpg', '174.jpg', '175.jpg', '176.jpg', '177.jpg', '178.jpg', '179.jpg', '180.jpg', '181.jpg', '182.jpg', '183.jpg', '184.jpg', '185.jpg', '186.jpg', '187.jpg', '188.jpg', '189.jpg', '190.jpg', '191.jpg', '192.jpg', '193.jpg', '194.jpg', '195.jpg', '196.jpg', '197.jpg', '198.jpg', '199.jpg', '200.jpg', '201.jpg', '202.jpg', '203.jpg']\n"
     ]
    }
   ],
   "source": [
    "sorted_files =  sorted(images)\n",
    "print(sorted_files)"
   ],
   "metadata": {
    "collapsed": false
   }
  },
  {
   "cell_type": "code",
   "execution_count": 47,
   "outputs": [],
   "source": [
    "with open(\"name.pdf\",\"wb\") as f:\n",
    "    f.write(img2pdf.convert(sorted_files))"
   ],
   "metadata": {
    "collapsed": false
   }
  },
  {
   "cell_type": "code",
   "execution_count": 24,
   "outputs": [],
   "source": [
    "import os\n",
    "from fpdf import FPDF\n",
    "\n",
    "pdf = FPDF()\n",
    "pdf.set_auto_page_break(0)"
   ],
   "metadata": {
    "collapsed": false
   }
  },
  {
   "cell_type": "code",
   "execution_count": 25,
   "outputs": [],
   "source": [
    "imagelist = [i for i in os.listdir('/home/lacie/Documents/Paper/PhD/images/images/3') if i.endswith('jpg')]"
   ],
   "metadata": {
    "collapsed": false
   }
  },
  {
   "cell_type": "code",
   "execution_count": 26,
   "outputs": [],
   "source": [
    "# imagelist is the list with all image filenames\n",
    "for image in sorted(imagelist):\n",
    "    pdf.add_page()\n",
    "    pdf.image('/home/lacie/Documents/Paper/PhD/images/images/3/' + image, w=190, h=280)"
   ],
   "metadata": {
    "collapsed": false
   }
  },
  {
   "cell_type": "code",
   "execution_count": null,
   "outputs": [],
   "source": [],
   "metadata": {
    "collapsed": false
   }
  },
  {
   "cell_type": "code",
   "execution_count": null,
   "outputs": [],
   "source": [],
   "metadata": {
    "collapsed": false
   }
  },
  {
   "cell_type": "code",
   "execution_count": null,
   "outputs": [],
   "source": [],
   "metadata": {
    "collapsed": false
   }
  },
  {
   "cell_type": "code",
   "execution_count": null,
   "outputs": [],
   "source": [],
   "metadata": {
    "collapsed": false
   }
  },
  {
   "cell_type": "code",
   "execution_count": null,
   "outputs": [],
   "source": [],
   "metadata": {
    "collapsed": false
   }
  }
 ],
 "metadata": {
  "kernelspec": {
   "display_name": "Python 3",
   "language": "python",
   "name": "python3"
  },
  "language_info": {
   "codemirror_mode": {
    "name": "ipython",
    "version": 2
   },
   "file_extension": ".py",
   "mimetype": "text/x-python",
   "name": "python",
   "nbconvert_exporter": "python",
   "pygments_lexer": "ipython2",
   "version": "2.7.6"
  }
 },
 "nbformat": 4,
 "nbformat_minor": 0
}

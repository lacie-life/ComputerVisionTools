{
 "cells": [
  {
   "cell_type": "code",
   "execution_count": 1,
   "metadata": {},
   "outputs": [],
   "source": [
    "import cv2\n",
    "import os\n",
    "import json\n",
    "import numpy as np\n",
    "\n",
    "anno_file = \"test_1.json\"\n",
    "seg_img = \"test.jpg\""
   ]
  },
  {
   "cell_type": "code",
   "execution_count": 2,
   "metadata": {},
   "outputs": [
    {
     "name": "stderr",
     "output_type": "stream",
     "text": [
      "[ WARN:0@0.046] global loadsave.cpp:248 findDecoder imread_('test.jpg/test_1.jpg'): can't open/read file: check file path/integrity\n"
     ]
    }
   ],
   "source": [
    "file_name = os.path.basename(anno_file)\n",
    "annotate = json.load(open(file_name))\n",
    "\n",
    "img = cv2.imread(os.path.join(seg_img,file_name.replace('json','jpg')))\n",
    "\n",
    "leaf_polygon = []\n",
    "blabla_polygon = []\n",
    "\n",
    "if len(annotate[\"shapes\"]):\n",
    "    for idx,i in enumerate(annotate[\"shapes\"]):\n",
    "        shape_type = i['shape_type']\n",
    "        points = i['points']\n",
    "        label = i['label']\n",
    "        points = np.array(points)\n",
    "        if shape_type == 'polygon':\n",
    "            if label == 'leaf':\n",
    "                leaf_polygon.append(points)\n",
    "            elif label == 'half':\n",
    "                blabla_polygon.append(points)\n",
    "            else:\n",
    "                print('label error')"
   ]
  },
  {
   "cell_type": "code",
   "execution_count": 3,
   "metadata": {},
   "outputs": [
    {
     "data": {
      "text/plain": [
       "[array([[ 24.22707424,  58.28820961],\n",
       "        [ 65.27510917,  42.56768559],\n",
       "        [105.01310044,  42.13100437],\n",
       "        [117.6768559 ,  45.40611354],\n",
       "        [134.48908297,  54.3580786 ],\n",
       "        [161.56331878,  76.84716157],\n",
       "        [175.5371179 ,  94.09606987],\n",
       "        [193.22270742, 111.56331878],\n",
       "        [203.70305677, 123.79039301],\n",
       "        [211.34497817, 129.90393013],\n",
       "        [211.12663755, 138.8558952 ],\n",
       "        [199.11790393, 142.13100437],\n",
       "        [167.89519651, 147.80786026],\n",
       "        [145.62445415, 153.70305677],\n",
       "        [124.44541485, 157.85152838],\n",
       "        [ 99.77292576, 156.54148472],\n",
       "        [ 80.99563319, 152.17467249],\n",
       "        [ 60.47161572, 142.34934498],\n",
       "        [ 46.49781659, 129.90393013],\n",
       "        [ 33.83406114, 114.62008734],\n",
       "        [ 25.10043668,  97.80786026],\n",
       "        [ 18.33187773,  82.74235808]])]"
      ]
     },
     "execution_count": 3,
     "metadata": {},
     "output_type": "execute_result"
    }
   ],
   "source": [
    "leaf_polygon"
   ]
  },
  {
   "cell_type": "code",
   "execution_count": 4,
   "metadata": {},
   "outputs": [
    {
     "data": {
      "text/plain": [
       "1"
      ]
     },
     "execution_count": 4,
     "metadata": {},
     "output_type": "execute_result"
    }
   ],
   "source": [
    "len(blabla_polygon)"
   ]
  },
  {
   "cell_type": "code",
   "execution_count": 5,
   "metadata": {},
   "outputs": [
    {
     "data": {
      "text/plain": [
       "22"
      ]
     },
     "execution_count": 5,
     "metadata": {},
     "output_type": "execute_result"
    }
   ],
   "source": [
    "len(leaf_polygon[0])"
   ]
  },
  {
   "cell_type": "code",
   "execution_count": 6,
   "metadata": {},
   "outputs": [],
   "source": [
    "leaf_area = cv2.contourArea(np.around(np.array([[pt] for pt in leaf_polygon[0]])).astype(np.int32))"
   ]
  },
  {
   "cell_type": "code",
   "execution_count": 7,
   "metadata": {},
   "outputs": [],
   "source": [
    "blabla_area = 0\n",
    "for x in blabla_polygon:\n",
    "    blabla_area = blabla_area + cv2.contourArea(np.around(np.array([[pt] for pt in x])).astype(np.int32))"
   ]
  },
  {
   "cell_type": "code",
   "execution_count": 8,
   "metadata": {},
   "outputs": [],
   "source": [
    "ratio = blabla_area/leaf_area"
   ]
  },
  {
   "cell_type": "code",
   "execution_count": 9,
   "metadata": {},
   "outputs": [
    {
     "data": {
      "text/plain": [
       "0.4853953304574044"
      ]
     },
     "execution_count": 9,
     "metadata": {},
     "output_type": "execute_result"
    }
   ],
   "source": [
    "ratio"
   ]
  },
  {
   "cell_type": "code",
   "execution_count": null,
   "metadata": {},
   "outputs": [],
   "source": []
  },
  {
   "cell_type": "code",
   "execution_count": null,
   "metadata": {},
   "outputs": [],
   "source": []
  }
 ],
 "metadata": {
  "kernelspec": {
   "display_name": "base",
   "language": "python",
   "name": "python3"
  },
  "language_info": {
   "codemirror_mode": {
    "name": "ipython",
    "version": 3
   },
   "file_extension": ".py",
   "mimetype": "text/x-python",
   "name": "python",
   "nbconvert_exporter": "python",
   "pygments_lexer": "ipython3",
   "version": "3.9.12"
  },
  "orig_nbformat": 4
 },
 "nbformat": 4,
 "nbformat_minor": 2
}
